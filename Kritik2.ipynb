{
 "cells": [
  {
   "cell_type": "code",
   "execution_count": 21,
   "id": "92fb4142-754f-4c97-9dd1-2f4244012b89",
   "metadata": {},
   "outputs": [
    {
     "name": "stdout",
     "output_type": "stream",
     "text": [
      "0\n"
     ]
    }
   ],
   "source": [
    "import numpy as np\n",
    "\n",
    "x=1\n",
    "\n",
    "def funny(x):\n",
    "    if x<=-1:\n",
    "        return 0\n",
    "    elif x>=1:\n",
    "        return 0\n",
    "    else:\n",
    "        return np.exp(1-(1/(1-x**(10**250))))\n",
    "\n",
    "print(funny(x))"
   ]
  },
  {
   "cell_type": "code",
   "execution_count": 2,
   "id": "3ea4f3ea-8fd2-4c05-940b-dbfc6a69184f",
   "metadata": {},
   "outputs": [
    {
     "ename": "ZeroDivisionError",
     "evalue": "division by zero",
     "output_type": "error",
     "traceback": [
      "\u001b[0;31m---------------------------------------------------------------------------\u001b[0m",
      "\u001b[0;31mZeroDivisionError\u001b[0m                         Traceback (most recent call last)",
      "Cell \u001b[0;32mIn[2], line 6\u001b[0m\n\u001b[1;32m      3\u001b[0m \u001b[38;5;28;01mdef\u001b[39;00m \u001b[38;5;21mfunny\u001b[39m(x):\n\u001b[1;32m      4\u001b[0m         \u001b[38;5;28;01mreturn\u001b[39;00m (\u001b[38;5;241m-\u001b[39m\u001b[38;5;241m1\u001b[39m\u001b[38;5;241m/\u001b[39m(\u001b[38;5;241m1\u001b[39m\u001b[38;5;241m-\u001b[39m(x\u001b[38;5;241m*\u001b[39m\u001b[38;5;241m*\u001b[39m(\u001b[38;5;241m10\u001b[39m\u001b[38;5;241m*\u001b[39m\u001b[38;5;241m*\u001b[39m\u001b[38;5;241m250\u001b[39m))))\n\u001b[0;32m----> 6\u001b[0m \u001b[38;5;28mprint\u001b[39m(\u001b[43mfunny\u001b[49m\u001b[43m(\u001b[49m\u001b[43mx\u001b[49m\u001b[43m)\u001b[49m)\n",
      "Cell \u001b[0;32mIn[2], line 4\u001b[0m, in \u001b[0;36mfunny\u001b[0;34m(x)\u001b[0m\n\u001b[1;32m      3\u001b[0m \u001b[38;5;28;01mdef\u001b[39;00m \u001b[38;5;21mfunny\u001b[39m(x):\n\u001b[0;32m----> 4\u001b[0m         \u001b[38;5;28;01mreturn\u001b[39;00m (\u001b[38;5;241;43m-\u001b[39;49m\u001b[38;5;241;43m1\u001b[39;49m\u001b[38;5;241;43m/\u001b[39;49m\u001b[43m(\u001b[49m\u001b[38;5;241;43m1\u001b[39;49m\u001b[38;5;241;43m-\u001b[39;49m\u001b[43m(\u001b[49m\u001b[43mx\u001b[49m\u001b[38;5;241;43m*\u001b[39;49m\u001b[38;5;241;43m*\u001b[39;49m\u001b[43m(\u001b[49m\u001b[38;5;241;43m10\u001b[39;49m\u001b[38;5;241;43m*\u001b[39;49m\u001b[38;5;241;43m*\u001b[39;49m\u001b[38;5;241;43m250\u001b[39;49m\u001b[43m)\u001b[49m\u001b[43m)\u001b[49m\u001b[43m)\u001b[49m)\n",
      "\u001b[0;31mZeroDivisionError\u001b[0m: division by zero"
     ]
    }
   ],
   "source": [
    "x=-1\n",
    "\n",
    "def funny(x):\n",
    "        return (-1/(1-(x**(10**250))))\n",
    "\n",
    "print(funny(x))"
   ]
  },
  {
   "cell_type": "code",
   "execution_count": 4,
   "id": "f6e34f03-7bef-4f73-bfa3-6053e5e595bd",
   "metadata": {},
   "outputs": [
    {
     "name": "stdout",
     "output_type": "stream",
     "text": [
      "0.2698741375\n",
      "0\n",
      "3.1415926536\n",
      "root is not in range [a,b]\n"
     ]
    }
   ],
   "source": [
    "import numpy as np\n",
    "np.seterr(divide='ignore')\n",
    "\n",
    "def roots (f,a,b):\n",
    "    tol=10**-10\n",
    "    while abs(a-b)>tol:\n",
    "        m=((b+a)/2)\n",
    "        if f(a)<=0<=f(b) or f(b)<=0<=f(a):\n",
    "            if f(a)==0:\n",
    "                return a\n",
    "            elif f(b)==0:\n",
    "                return b\n",
    "            elif f(m)==0:\n",
    "                return m\n",
    "            if (f(a)<=0<=f(m)) or (f(m)<=0<=f(a)):\n",
    "                b=m\n",
    "            elif (f(m)<=0<=f(b)) or (f(b)<=0<=f(m)):\n",
    "                a=m\n",
    "        else:\n",
    "            return (\"root is not in range [a,b]\")\n",
    "    return round(m,10)\n",
    "        \n",
    "    \n",
    "def f(x):\n",
    "    return np.exp(x)+np.log(x)\n",
    "\n",
    "print(roots(f,0,1))\n",
    "\n",
    "def a(x):\n",
    "    return np.arctan(x)-(x)**2\n",
    "print(roots(a,0,2))\n",
    "\n",
    "def b(x):\n",
    "    if x<=0:\n",
    "        return np.inf #avoids log(0)\n",
    "    return(np.sin(x))/(np.log(x))\n",
    "print(roots(b,3,4))\n",
    "\n",
    "def c(x):\n",
    "    return(np.log(np.cos(x)))\n",
    "print(roots(c,5,7))"
   ]
  },
  {
   "cell_type": "code",
   "execution_count": null,
   "id": "b3ae77e9-55ca-4530-9eb7-d621b7f115b4",
   "metadata": {},
   "outputs": [],
   "source": []
  }
 ],
 "metadata": {
  "kernelspec": {
   "display_name": "Python 3 (ipykernel)",
   "language": "python",
   "name": "python3"
  },
  "language_info": {
   "codemirror_mode": {
    "name": "ipython",
    "version": 3
   },
   "file_extension": ".py",
   "mimetype": "text/x-python",
   "name": "python",
   "nbconvert_exporter": "python",
   "pygments_lexer": "ipython3",
   "version": "3.11.9"
  }
 },
 "nbformat": 4,
 "nbformat_minor": 5
}
