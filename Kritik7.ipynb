{
 "cells": [
  {
   "cell_type": "code",
   "execution_count": 1,
   "id": "09872252-72c8-4154-9ffe-668ef2543e5d",
   "metadata": {},
   "outputs": [
    {
     "name": "stdout",
     "output_type": "stream",
     "text": [
      "Sample Mean: 82.382\n",
      "Sample Standard Deviation: 10.193467189005581\n",
      "Computed t₀: 2.290087686017293\n",
      "Critical t* (for 95% CI): 2.2522252225222523\n",
      "Accept null hypothesis (µ = 75)? False\n"
     ]
    }
   ],
   "source": [
    "import numpy as np\n",
    "from scipy.special import gamma\n",
    "\n",
    "# (i) Function to compute mean and sample standard deviation\n",
    "def compute_mean_std(data):\n",
    "    n = len(data)\n",
    "    mean = sum(data) / n\n",
    "    # Compute sample variance (using n-1 in the denominator)\n",
    "    variance = sum((x - mean) ** 2 for x in data) / (n - 1)\n",
    "    std = np.sqrt(variance)\n",
    "    return mean, std\n",
    "\n",
    "# (ii) Function to compute the t-statistic from data and hypothesized mean mu0\n",
    "def compute_t_statistic(data, mu0):\n",
    "    n = len(data)\n",
    "    mean, std = compute_mean_std(data)\n",
    "    t0 = (mean - mu0) / (std / np.sqrt(n))\n",
    "    return t0\n",
    "\n",
    "# t-distribution probability density function\n",
    "def t_distribution_pdf(x, nu):\n",
    "    coeff = gamma((nu + 1) / 2) / (np.sqrt(nu * np.pi) * gamma(nu / 2))\n",
    "    density = coeff * (1 + x**2 / nu) ** (-0.5 * (nu + 1))\n",
    "    return density\n",
    "\n",
    "# (iii) Function to find t* such that the area from 0 to t* equals half the tail probability (0.475)\n",
    "def find_t_star(prob, nu, x_start=0, x_end=20, num_points=10000):\n",
    "    x = np.linspace(x_start, x_end, num_points)\n",
    "    y = t_distribution_pdf(x, nu)\n",
    "    # Numerically approximate the cumulative density from 0 up to each x\n",
    "    cdf = np.cumsum(y) * (x[1] - x[0])\n",
    "    target_half_prob = prob / 2  # for a two-tailed test, we want 0.475 on one side for a 95% CI\n",
    "    index = np.where(cdf >= target_half_prob)[0][0]\n",
    "    return x[index]\n",
    "\n",
    "# (iv) Function to decide if t0 is within the acceptance region [-t*, t*]\n",
    "def t_test_decision(t_star, t0):\n",
    "    return abs(t0) <= t_star\n",
    "\n",
    "# (v) Apply the homebrew t-test to the given data:\n",
    "data = [92.64, 79.00, 84.79, 97.41, 93.68, 65.23, 84.50, 73.49, 73.97, 79.11]\n",
    "mu0 = 75\n",
    "n = len(data)\n",
    "df = n - 1  # degrees of freedom\n",
    "\n",
    "# Compute t0 from the data\n",
    "t0 = compute_t_statistic(data, mu0)\n",
    "# Compute the critical value t* for a 95% confidence level\n",
    "t_star = find_t_star(0.95, df)\n",
    "# Check whether t0 falls in the acceptance region\n",
    "accept_null = t_test_decision(t_star, t0)\n",
    "\n",
    "# Display the results\n",
    "mean, std = compute_mean_std(data)\n",
    "print(\"Sample Mean:\", mean)\n",
    "print(\"Sample Standard Deviation:\", std)\n",
    "print(\"Computed t₀:\", t0)\n",
    "print(\"Critical t* (for 95% CI):\", t_star)\n",
    "print(\"Accept null hypothesis (µ = 75)?\", accept_null)"
   ]
  },
  {
   "cell_type": "code",
   "execution_count": null,
   "id": "80eb2bd1-8013-435a-a0f8-e78d756c1108",
   "metadata": {},
   "outputs": [],
   "source": [
    "#V)\n",
    "#since the test accepts the null hypothesis, then we reject the null hypothesis\n",
    "#this means that the true mean is statistically significantly different from 75.\n",
    "#Because the mean is higher than 75, the evidence suggests that the new teaching technique appears to be beneficial in increasing test scores."
   ]
  }
 ],
 "metadata": {
  "kernelspec": {
   "display_name": "Python 3 (ipykernel)",
   "language": "python",
   "name": "python3"
  },
  "language_info": {
   "codemirror_mode": {
    "name": "ipython",
    "version": 3
   },
   "file_extension": ".py",
   "mimetype": "text/x-python",
   "name": "python",
   "nbconvert_exporter": "python",
   "pygments_lexer": "ipython3",
   "version": "3.12.8"
  }
 },
 "nbformat": 4,
 "nbformat_minor": 5
}
